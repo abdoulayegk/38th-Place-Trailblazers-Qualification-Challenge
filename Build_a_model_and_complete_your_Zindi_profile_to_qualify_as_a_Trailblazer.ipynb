{
  "nbformat": 4,
  "nbformat_minor": 0,
  "metadata": {
    "colab": {
      "name": "Build a model and complete your Zindi profile to qualify as a Trailblazer.ipynb",
      "provenance": [],
      "authorship_tag": "ABX9TyPXt6r3R8x7uSTEVmxYXy6v",
      "include_colab_link": true
    },
    "kernelspec": {
      "name": "python3",
      "display_name": "Python 3"
    },
    "language_info": {
      "name": "python"
    },
    "accelerator": "GPU"
  },
  "cells": [
    {
      "cell_type": "markdown",
      "metadata": {
        "id": "view-in-github",
        "colab_type": "text"
      },
      "source": [
        "<a href=\"https://colab.research.google.com/github/abdoulayegk/Trailblazers-Qualification-Challenge/blob/main/Build_a_model_and_complete_your_Zindi_profile_to_qualify_as_a_Trailblazer.ipynb\" target=\"_parent\"><img src=\"https://colab.research.google.com/assets/colab-badge.svg\" alt=\"Open In Colab\"/></a>"
      ]
    },
    {
      "cell_type": "code",
      "execution_count": null,
      "metadata": {
        "colab": {
          "resources": {
            "http://localhost:8080/nbextensions/google.colab/files.js": {
              "data": "Ly8gQ29weXJpZ2h0IDIwMTcgR29vZ2xlIExMQwovLwovLyBMaWNlbnNlZCB1bmRlciB0aGUgQXBhY2hlIExpY2Vuc2UsIFZlcnNpb24gMi4wICh0aGUgIkxpY2Vuc2UiKTsKLy8geW91IG1heSBub3QgdXNlIHRoaXMgZmlsZSBleGNlcHQgaW4gY29tcGxpYW5jZSB3aXRoIHRoZSBMaWNlbnNlLgovLyBZb3UgbWF5IG9idGFpbiBhIGNvcHkgb2YgdGhlIExpY2Vuc2UgYXQKLy8KLy8gICAgICBodHRwOi8vd3d3LmFwYWNoZS5vcmcvbGljZW5zZXMvTElDRU5TRS0yLjAKLy8KLy8gVW5sZXNzIHJlcXVpcmVkIGJ5IGFwcGxpY2FibGUgbGF3IG9yIGFncmVlZCB0byBpbiB3cml0aW5nLCBzb2Z0d2FyZQovLyBkaXN0cmlidXRlZCB1bmRlciB0aGUgTGljZW5zZSBpcyBkaXN0cmlidXRlZCBvbiBhbiAiQVMgSVMiIEJBU0lTLAovLyBXSVRIT1VUIFdBUlJBTlRJRVMgT1IgQ09ORElUSU9OUyBPRiBBTlkgS0lORCwgZWl0aGVyIGV4cHJlc3Mgb3IgaW1wbGllZC4KLy8gU2VlIHRoZSBMaWNlbnNlIGZvciB0aGUgc3BlY2lmaWMgbGFuZ3VhZ2UgZ292ZXJuaW5nIHBlcm1pc3Npb25zIGFuZAovLyBsaW1pdGF0aW9ucyB1bmRlciB0aGUgTGljZW5zZS4KCi8qKgogKiBAZmlsZW92ZXJ2aWV3IEhlbHBlcnMgZm9yIGdvb2dsZS5jb2xhYiBQeXRob24gbW9kdWxlLgogKi8KKGZ1bmN0aW9uKHNjb3BlKSB7CmZ1bmN0aW9uIHNwYW4odGV4dCwgc3R5bGVBdHRyaWJ1dGVzID0ge30pIHsKICBjb25zdCBlbGVtZW50ID0gZG9jdW1lbnQuY3JlYXRlRWxlbWVudCgnc3BhbicpOwogIGVsZW1lbnQudGV4dENvbnRlbnQgPSB0ZXh0OwogIGZvciAoY29uc3Qga2V5IG9mIE9iamVjdC5rZXlzKHN0eWxlQXR0cmlidXRlcykpIHsKICAgIGVsZW1lbnQuc3R5bGVba2V5XSA9IHN0eWxlQXR0cmlidXRlc1trZXldOwogIH0KICByZXR1cm4gZWxlbWVudDsKfQoKLy8gTWF4IG51bWJlciBvZiBieXRlcyB3aGljaCB3aWxsIGJlIHVwbG9hZGVkIGF0IGEgdGltZS4KY29uc3QgTUFYX1BBWUxPQURfU0laRSA9IDEwMCAqIDEwMjQ7CgpmdW5jdGlvbiBfdXBsb2FkRmlsZXMoaW5wdXRJZCwgb3V0cHV0SWQpIHsKICBjb25zdCBzdGVwcyA9IHVwbG9hZEZpbGVzU3RlcChpbnB1dElkLCBvdXRwdXRJZCk7CiAgY29uc3Qgb3V0cHV0RWxlbWVudCA9IGRvY3VtZW50LmdldEVsZW1lbnRCeUlkKG91dHB1dElkKTsKICAvLyBDYWNoZSBzdGVwcyBvbiB0aGUgb3V0cHV0RWxlbWVudCB0byBtYWtlIGl0IGF2YWlsYWJsZSBmb3IgdGhlIG5leHQgY2FsbAogIC8vIHRvIHVwbG9hZEZpbGVzQ29udGludWUgZnJvbSBQeXRob24uCiAgb3V0cHV0RWxlbWVudC5zdGVwcyA9IHN0ZXBzOwoKICByZXR1cm4gX3VwbG9hZEZpbGVzQ29udGludWUob3V0cHV0SWQpOwp9CgovLyBUaGlzIGlzIHJvdWdobHkgYW4gYXN5bmMgZ2VuZXJhdG9yIChub3Qgc3VwcG9ydGVkIGluIHRoZSBicm93c2VyIHlldCksCi8vIHdoZXJlIHRoZXJlIGFyZSBtdWx0aXBsZSBhc3luY2hyb25vdXMgc3RlcHMgYW5kIHRoZSBQeXRob24gc2lkZSBpcyBnb2luZwovLyB0byBwb2xsIGZvciBjb21wbGV0aW9uIG9mIGVhY2ggc3RlcC4KLy8gVGhpcyB1c2VzIGEgUHJvbWlzZSB0byBibG9jayB0aGUgcHl0aG9uIHNpZGUgb24gY29tcGxldGlvbiBvZiBlYWNoIHN0ZXAsCi8vIHRoZW4gcGFzc2VzIHRoZSByZXN1bHQgb2YgdGhlIHByZXZpb3VzIHN0ZXAgYXMgdGhlIGlucHV0IHRvIHRoZSBuZXh0IHN0ZXAuCmZ1bmN0aW9uIF91cGxvYWRGaWxlc0NvbnRpbnVlKG91dHB1dElkKSB7CiAgY29uc3Qgb3V0cHV0RWxlbWVudCA9IGRvY3VtZW50LmdldEVsZW1lbnRCeUlkKG91dHB1dElkKTsKICBjb25zdCBzdGVwcyA9IG91dHB1dEVsZW1lbnQuc3RlcHM7CgogIGNvbnN0IG5leHQgPSBzdGVwcy5uZXh0KG91dHB1dEVsZW1lbnQubGFzdFByb21pc2VWYWx1ZSk7CiAgcmV0dXJuIFByb21pc2UucmVzb2x2ZShuZXh0LnZhbHVlLnByb21pc2UpLnRoZW4oKHZhbHVlKSA9PiB7CiAgICAvLyBDYWNoZSB0aGUgbGFzdCBwcm9taXNlIHZhbHVlIHRvIG1ha2UgaXQgYXZhaWxhYmxlIHRvIHRoZSBuZXh0CiAgICAvLyBzdGVwIG9mIHRoZSBnZW5lcmF0b3IuCiAgICBvdXRwdXRFbGVtZW50Lmxhc3RQcm9taXNlVmFsdWUgPSB2YWx1ZTsKICAgIHJldHVybiBuZXh0LnZhbHVlLnJlc3BvbnNlOwogIH0pOwp9CgovKioKICogR2VuZXJhdG9yIGZ1bmN0aW9uIHdoaWNoIGlzIGNhbGxlZCBiZXR3ZWVuIGVhY2ggYXN5bmMgc3RlcCBvZiB0aGUgdXBsb2FkCiAqIHByb2Nlc3MuCiAqIEBwYXJhbSB7c3RyaW5nfSBpbnB1dElkIEVsZW1lbnQgSUQgb2YgdGhlIGlucHV0IGZpbGUgcGlja2VyIGVsZW1lbnQuCiAqIEBwYXJhbSB7c3RyaW5nfSBvdXRwdXRJZCBFbGVtZW50IElEIG9mIHRoZSBvdXRwdXQgZGlzcGxheS4KICogQHJldHVybiB7IUl0ZXJhYmxlPCFPYmplY3Q+fSBJdGVyYWJsZSBvZiBuZXh0IHN0ZXBzLgogKi8KZnVuY3Rpb24qIHVwbG9hZEZpbGVzU3RlcChpbnB1dElkLCBvdXRwdXRJZCkgewogIGNvbnN0IGlucHV0RWxlbWVudCA9IGRvY3VtZW50LmdldEVsZW1lbnRCeUlkKGlucHV0SWQpOwogIGlucHV0RWxlbWVudC5kaXNhYmxlZCA9IGZhbHNlOwoKICBjb25zdCBvdXRwdXRFbGVtZW50ID0gZG9jdW1lbnQuZ2V0RWxlbWVudEJ5SWQob3V0cHV0SWQpOwogIG91dHB1dEVsZW1lbnQuaW5uZXJIVE1MID0gJyc7CgogIGNvbnN0IHBpY2tlZFByb21pc2UgPSBuZXcgUHJvbWlzZSgocmVzb2x2ZSkgPT4gewogICAgaW5wdXRFbGVtZW50LmFkZEV2ZW50TGlzdGVuZXIoJ2NoYW5nZScsIChlKSA9PiB7CiAgICAgIHJlc29sdmUoZS50YXJnZXQuZmlsZXMpOwogICAgfSk7CiAgfSk7CgogIGNvbnN0IGNhbmNlbCA9IGRvY3VtZW50LmNyZWF0ZUVsZW1lbnQoJ2J1dHRvbicpOwogIGlucHV0RWxlbWVudC5wYXJlbnRFbGVtZW50LmFwcGVuZENoaWxkKGNhbmNlbCk7CiAgY2FuY2VsLnRleHRDb250ZW50ID0gJ0NhbmNlbCB1cGxvYWQnOwogIGNvbnN0IGNhbmNlbFByb21pc2UgPSBuZXcgUHJvbWlzZSgocmVzb2x2ZSkgPT4gewogICAgY2FuY2VsLm9uY2xpY2sgPSAoKSA9PiB7CiAgICAgIHJlc29sdmUobnVsbCk7CiAgICB9OwogIH0pOwoKICAvLyBXYWl0IGZvciB0aGUgdXNlciB0byBwaWNrIHRoZSBmaWxlcy4KICBjb25zdCBmaWxlcyA9IHlpZWxkIHsKICAgIHByb21pc2U6IFByb21pc2UucmFjZShbcGlja2VkUHJvbWlzZSwgY2FuY2VsUHJvbWlzZV0pLAogICAgcmVzcG9uc2U6IHsKICAgICAgYWN0aW9uOiAnc3RhcnRpbmcnLAogICAgfQogIH07CgogIGNhbmNlbC5yZW1vdmUoKTsKCiAgLy8gRGlzYWJsZSB0aGUgaW5wdXQgZWxlbWVudCBzaW5jZSBmdXJ0aGVyIHBpY2tzIGFyZSBub3QgYWxsb3dlZC4KICBpbnB1dEVsZW1lbnQuZGlzYWJsZWQgPSB0cnVlOwoKICBpZiAoIWZpbGVzKSB7CiAgICByZXR1cm4gewogICAgICByZXNwb25zZTogewogICAgICAgIGFjdGlvbjogJ2NvbXBsZXRlJywKICAgICAgfQogICAgfTsKICB9CgogIGZvciAoY29uc3QgZmlsZSBvZiBmaWxlcykgewogICAgY29uc3QgbGkgPSBkb2N1bWVudC5jcmVhdGVFbGVtZW50KCdsaScpOwogICAgbGkuYXBwZW5kKHNwYW4oZmlsZS5uYW1lLCB7Zm9udFdlaWdodDogJ2JvbGQnfSkpOwogICAgbGkuYXBwZW5kKHNwYW4oCiAgICAgICAgYCgke2ZpbGUudHlwZSB8fCAnbi9hJ30pIC0gJHtmaWxlLnNpemV9IGJ5dGVzLCBgICsKICAgICAgICBgbGFzdCBtb2RpZmllZDogJHsKICAgICAgICAgICAgZmlsZS5sYXN0TW9kaWZpZWREYXRlID8gZmlsZS5sYXN0TW9kaWZpZWREYXRlLnRvTG9jYWxlRGF0ZVN0cmluZygpIDoKICAgICAgICAgICAgICAgICAgICAgICAgICAgICAgICAgICAgJ24vYSd9IC0gYCkpOwogICAgY29uc3QgcGVyY2VudCA9IHNwYW4oJzAlIGRvbmUnKTsKICAgIGxpLmFwcGVuZENoaWxkKHBlcmNlbnQpOwoKICAgIG91dHB1dEVsZW1lbnQuYXBwZW5kQ2hpbGQobGkpOwoKICAgIGNvbnN0IGZpbGVEYXRhUHJvbWlzZSA9IG5ldyBQcm9taXNlKChyZXNvbHZlKSA9PiB7CiAgICAgIGNvbnN0IHJlYWRlciA9IG5ldyBGaWxlUmVhZGVyKCk7CiAgICAgIHJlYWRlci5vbmxvYWQgPSAoZSkgPT4gewogICAgICAgIHJlc29sdmUoZS50YXJnZXQucmVzdWx0KTsKICAgICAgfTsKICAgICAgcmVhZGVyLnJlYWRBc0FycmF5QnVmZmVyKGZpbGUpOwogICAgfSk7CiAgICAvLyBXYWl0IGZvciB0aGUgZGF0YSB0byBiZSByZWFkeS4KICAgIGxldCBmaWxlRGF0YSA9IHlpZWxkIHsKICAgICAgcHJvbWlzZTogZmlsZURhdGFQcm9taXNlLAogICAgICByZXNwb25zZTogewogICAgICAgIGFjdGlvbjogJ2NvbnRpbnVlJywKICAgICAgfQogICAgfTsKCiAgICAvLyBVc2UgYSBjaHVua2VkIHNlbmRpbmcgdG8gYXZvaWQgbWVzc2FnZSBzaXplIGxpbWl0cy4gU2VlIGIvNjIxMTU2NjAuCiAgICBsZXQgcG9zaXRpb24gPSAwOwogICAgZG8gewogICAgICBjb25zdCBsZW5ndGggPSBNYXRoLm1pbihmaWxlRGF0YS5ieXRlTGVuZ3RoIC0gcG9zaXRpb24sIE1BWF9QQVlMT0FEX1NJWkUpOwogICAgICBjb25zdCBjaHVuayA9IG5ldyBVaW50OEFycmF5KGZpbGVEYXRhLCBwb3NpdGlvbiwgbGVuZ3RoKTsKICAgICAgcG9zaXRpb24gKz0gbGVuZ3RoOwoKICAgICAgY29uc3QgYmFzZTY0ID0gYnRvYShTdHJpbmcuZnJvbUNoYXJDb2RlLmFwcGx5KG51bGwsIGNodW5rKSk7CiAgICAgIHlpZWxkIHsKICAgICAgICByZXNwb25zZTogewogICAgICAgICAgYWN0aW9uOiAnYXBwZW5kJywKICAgICAgICAgIGZpbGU6IGZpbGUubmFtZSwKICAgICAgICAgIGRhdGE6IGJhc2U2NCwKICAgICAgICB9LAogICAgICB9OwoKICAgICAgbGV0IHBlcmNlbnREb25lID0gZmlsZURhdGEuYnl0ZUxlbmd0aCA9PT0gMCA/CiAgICAgICAgICAxMDAgOgogICAgICAgICAgTWF0aC5yb3VuZCgocG9zaXRpb24gLyBmaWxlRGF0YS5ieXRlTGVuZ3RoKSAqIDEwMCk7CiAgICAgIHBlcmNlbnQudGV4dENvbnRlbnQgPSBgJHtwZXJjZW50RG9uZX0lIGRvbmVgOwoKICAgIH0gd2hpbGUgKHBvc2l0aW9uIDwgZmlsZURhdGEuYnl0ZUxlbmd0aCk7CiAgfQoKICAvLyBBbGwgZG9uZS4KICB5aWVsZCB7CiAgICByZXNwb25zZTogewogICAgICBhY3Rpb246ICdjb21wbGV0ZScsCiAgICB9CiAgfTsKfQoKc2NvcGUuZ29vZ2xlID0gc2NvcGUuZ29vZ2xlIHx8IHt9OwpzY29wZS5nb29nbGUuY29sYWIgPSBzY29wZS5nb29nbGUuY29sYWIgfHwge307CnNjb3BlLmdvb2dsZS5jb2xhYi5fZmlsZXMgPSB7CiAgX3VwbG9hZEZpbGVzLAogIF91cGxvYWRGaWxlc0NvbnRpbnVlLAp9Owp9KShzZWxmKTsK",
              "ok": true,
              "headers": [
                [
                  "content-type",
                  "application/javascript"
                ]
              ],
              "status": 200,
              "status_text": ""
            }
          },
          "base_uri": "https://localhost:8080/",
          "height": 119
        },
        "id": "xIlp2WULna1A",
        "outputId": "f13d1e18-089e-4a20-ceb5-456894c2d791"
      },
      "outputs": [
        {
          "output_type": "display_data",
          "data": {
            "text/plain": [
              "<IPython.core.display.HTML object>"
            ],
            "text/html": [
              "\n",
              "     <input type=\"file\" id=\"files-6282929a-cb12-46d3-8a84-361ac8b8d733\" name=\"files[]\" multiple disabled\n",
              "        style=\"border:none\" />\n",
              "     <output id=\"result-6282929a-cb12-46d3-8a84-361ac8b8d733\">\n",
              "      Upload widget is only available when the cell has been executed in the\n",
              "      current browser session. Please rerun this cell to enable.\n",
              "      </output>\n",
              "      <script src=\"/nbextensions/google.colab/files.js\"></script> "
            ]
          },
          "metadata": {}
        },
        {
          "output_type": "stream",
          "name": "stdout",
          "text": [
            "Saving Test.csv to Test.csv\n",
            "Saving Train.csv to Train.csv\n"
          ]
        }
      ],
      "source": [
        "from google.colab import files\n",
        "import io\n",
        "\n",
        "uploaded = files.upload()"
      ]
    },
    {
      "cell_type": "code",
      "source": [
        "import pandas as pd\n",
        "import matplotlib.pyplot as plt\n",
        "import seaborn as sns"
      ],
      "metadata": {
        "id": "iICCYtoNnnYK"
      },
      "execution_count": null,
      "outputs": []
    },
    {
      "cell_type": "code",
      "source": [
        "train_df = pd.read_csv(io.BytesIO(uploaded['Train.csv']))\n",
        "test_df = pd.read_csv(io.BytesIO(uploaded['Test.csv']))"
      ],
      "metadata": {
        "id": "SLoCzw5voty6"
      },
      "execution_count": null,
      "outputs": []
    },
    {
      "cell_type": "code",
      "source": [
        "train_df.head()"
      ],
      "metadata": {
        "colab": {
          "base_uri": "https://localhost:8080/",
          "height": 386
        },
        "id": "TiExBQlApUi0",
        "outputId": "51edab7b-e371-47d8-8481-4a127bac4e2c"
      },
      "execution_count": null,
      "outputs": [
        {
          "output_type": "execute_result",
          "data": {
            "text/plain": [
              "               ward  total_households  total_individuals     target     dw_00  \\\n",
              "0  41601001: Ward 1        1674.45058         5888.20750  16.773757  0.933841   \n",
              "1  41601002: Ward 2        1736.99230         6735.33812  21.496661  0.696940   \n",
              "2  41601003: Ward 3        2403.57591         7273.04995  10.931425  0.810545   \n",
              "3  41601004: Ward 4        1740.78737         5734.49046  23.119257  0.659914   \n",
              "4  41601005: Ward 5        1730.51451         6657.23835  13.652252  0.950575   \n",
              "\n",
              "      dw_01     dw_02     dw_03     dw_04     dw_05  ...     pw_03     pw_04  \\\n",
              "0  0.000846  0.005490  0.000676  0.000000  0.001372  ...  0.002848  0.007537   \n",
              "1  0.001253  0.004402  0.000000  0.002301  0.001323  ...  0.014566  0.057127   \n",
              "2  0.004517  0.008891  0.003986  0.007735  0.000956  ...  0.057560  0.010358   \n",
              "3  0.000000  0.006129  0.000000  0.000813  0.037245  ...  0.000000  0.000669   \n",
              "4  0.000655  0.001473  0.000598  0.006999  0.000818  ...  0.004859  0.001290   \n",
              "\n",
              "      pw_05     pw_06  pw_07  pw_08  ADM4_PCODE        lat        lon  \\\n",
              "0  0.000000  0.012928      0      0   ZA4161001 -29.682270  24.734743   \n",
              "1  0.019092  0.004131      0      0   ZA4161002 -29.119311  24.757737   \n",
              "2  0.001421  0.040881      0      0   ZA4161003 -29.142276  25.094093   \n",
              "3  0.000000  0.005011      0      0   ZA4161004 -29.372052  24.942867   \n",
              "4  0.000673  0.017629      0      0   ZA4161005 -29.409381  25.290165   \n",
              "\n",
              "         NL  \n",
              "0  0.292039  \n",
              "1  3.207775  \n",
              "2  0.000000  \n",
              "3  2.038778  \n",
              "4  0.000000  \n",
              "\n",
              "[5 rows x 63 columns]"
            ],
            "text/html": [
              "\n",
              "  <div id=\"df-4ac0536d-848e-401d-890a-8d7396ed3211\">\n",
              "    <div class=\"colab-df-container\">\n",
              "      <div>\n",
              "<style scoped>\n",
              "    .dataframe tbody tr th:only-of-type {\n",
              "        vertical-align: middle;\n",
              "    }\n",
              "\n",
              "    .dataframe tbody tr th {\n",
              "        vertical-align: top;\n",
              "    }\n",
              "\n",
              "    .dataframe thead th {\n",
              "        text-align: right;\n",
              "    }\n",
              "</style>\n",
              "<table border=\"1\" class=\"dataframe\">\n",
              "  <thead>\n",
              "    <tr style=\"text-align: right;\">\n",
              "      <th></th>\n",
              "      <th>ward</th>\n",
              "      <th>total_households</th>\n",
              "      <th>total_individuals</th>\n",
              "      <th>target</th>\n",
              "      <th>dw_00</th>\n",
              "      <th>dw_01</th>\n",
              "      <th>dw_02</th>\n",
              "      <th>dw_03</th>\n",
              "      <th>dw_04</th>\n",
              "      <th>dw_05</th>\n",
              "      <th>...</th>\n",
              "      <th>pw_03</th>\n",
              "      <th>pw_04</th>\n",
              "      <th>pw_05</th>\n",
              "      <th>pw_06</th>\n",
              "      <th>pw_07</th>\n",
              "      <th>pw_08</th>\n",
              "      <th>ADM4_PCODE</th>\n",
              "      <th>lat</th>\n",
              "      <th>lon</th>\n",
              "      <th>NL</th>\n",
              "    </tr>\n",
              "  </thead>\n",
              "  <tbody>\n",
              "    <tr>\n",
              "      <th>0</th>\n",
              "      <td>41601001: Ward 1</td>\n",
              "      <td>1674.45058</td>\n",
              "      <td>5888.20750</td>\n",
              "      <td>16.773757</td>\n",
              "      <td>0.933841</td>\n",
              "      <td>0.000846</td>\n",
              "      <td>0.005490</td>\n",
              "      <td>0.000676</td>\n",
              "      <td>0.000000</td>\n",
              "      <td>0.001372</td>\n",
              "      <td>...</td>\n",
              "      <td>0.002848</td>\n",
              "      <td>0.007537</td>\n",
              "      <td>0.000000</td>\n",
              "      <td>0.012928</td>\n",
              "      <td>0</td>\n",
              "      <td>0</td>\n",
              "      <td>ZA4161001</td>\n",
              "      <td>-29.682270</td>\n",
              "      <td>24.734743</td>\n",
              "      <td>0.292039</td>\n",
              "    </tr>\n",
              "    <tr>\n",
              "      <th>1</th>\n",
              "      <td>41601002: Ward 2</td>\n",
              "      <td>1736.99230</td>\n",
              "      <td>6735.33812</td>\n",
              "      <td>21.496661</td>\n",
              "      <td>0.696940</td>\n",
              "      <td>0.001253</td>\n",
              "      <td>0.004402</td>\n",
              "      <td>0.000000</td>\n",
              "      <td>0.002301</td>\n",
              "      <td>0.001323</td>\n",
              "      <td>...</td>\n",
              "      <td>0.014566</td>\n",
              "      <td>0.057127</td>\n",
              "      <td>0.019092</td>\n",
              "      <td>0.004131</td>\n",
              "      <td>0</td>\n",
              "      <td>0</td>\n",
              "      <td>ZA4161002</td>\n",
              "      <td>-29.119311</td>\n",
              "      <td>24.757737</td>\n",
              "      <td>3.207775</td>\n",
              "    </tr>\n",
              "    <tr>\n",
              "      <th>2</th>\n",
              "      <td>41601003: Ward 3</td>\n",
              "      <td>2403.57591</td>\n",
              "      <td>7273.04995</td>\n",
              "      <td>10.931425</td>\n",
              "      <td>0.810545</td>\n",
              "      <td>0.004517</td>\n",
              "      <td>0.008891</td>\n",
              "      <td>0.003986</td>\n",
              "      <td>0.007735</td>\n",
              "      <td>0.000956</td>\n",
              "      <td>...</td>\n",
              "      <td>0.057560</td>\n",
              "      <td>0.010358</td>\n",
              "      <td>0.001421</td>\n",
              "      <td>0.040881</td>\n",
              "      <td>0</td>\n",
              "      <td>0</td>\n",
              "      <td>ZA4161003</td>\n",
              "      <td>-29.142276</td>\n",
              "      <td>25.094093</td>\n",
              "      <td>0.000000</td>\n",
              "    </tr>\n",
              "    <tr>\n",
              "      <th>3</th>\n",
              "      <td>41601004: Ward 4</td>\n",
              "      <td>1740.78737</td>\n",
              "      <td>5734.49046</td>\n",
              "      <td>23.119257</td>\n",
              "      <td>0.659914</td>\n",
              "      <td>0.000000</td>\n",
              "      <td>0.006129</td>\n",
              "      <td>0.000000</td>\n",
              "      <td>0.000813</td>\n",
              "      <td>0.037245</td>\n",
              "      <td>...</td>\n",
              "      <td>0.000000</td>\n",
              "      <td>0.000669</td>\n",
              "      <td>0.000000</td>\n",
              "      <td>0.005011</td>\n",
              "      <td>0</td>\n",
              "      <td>0</td>\n",
              "      <td>ZA4161004</td>\n",
              "      <td>-29.372052</td>\n",
              "      <td>24.942867</td>\n",
              "      <td>2.038778</td>\n",
              "    </tr>\n",
              "    <tr>\n",
              "      <th>4</th>\n",
              "      <td>41601005: Ward 5</td>\n",
              "      <td>1730.51451</td>\n",
              "      <td>6657.23835</td>\n",
              "      <td>13.652252</td>\n",
              "      <td>0.950575</td>\n",
              "      <td>0.000655</td>\n",
              "      <td>0.001473</td>\n",
              "      <td>0.000598</td>\n",
              "      <td>0.006999</td>\n",
              "      <td>0.000818</td>\n",
              "      <td>...</td>\n",
              "      <td>0.004859</td>\n",
              "      <td>0.001290</td>\n",
              "      <td>0.000673</td>\n",
              "      <td>0.017629</td>\n",
              "      <td>0</td>\n",
              "      <td>0</td>\n",
              "      <td>ZA4161005</td>\n",
              "      <td>-29.409381</td>\n",
              "      <td>25.290165</td>\n",
              "      <td>0.000000</td>\n",
              "    </tr>\n",
              "  </tbody>\n",
              "</table>\n",
              "<p>5 rows × 63 columns</p>\n",
              "</div>\n",
              "      <button class=\"colab-df-convert\" onclick=\"convertToInteractive('df-4ac0536d-848e-401d-890a-8d7396ed3211')\"\n",
              "              title=\"Convert this dataframe to an interactive table.\"\n",
              "              style=\"display:none;\">\n",
              "        \n",
              "  <svg xmlns=\"http://www.w3.org/2000/svg\" height=\"24px\"viewBox=\"0 0 24 24\"\n",
              "       width=\"24px\">\n",
              "    <path d=\"M0 0h24v24H0V0z\" fill=\"none\"/>\n",
              "    <path d=\"M18.56 5.44l.94 2.06.94-2.06 2.06-.94-2.06-.94-.94-2.06-.94 2.06-2.06.94zm-11 1L8.5 8.5l.94-2.06 2.06-.94-2.06-.94L8.5 2.5l-.94 2.06-2.06.94zm10 10l.94 2.06.94-2.06 2.06-.94-2.06-.94-.94-2.06-.94 2.06-2.06.94z\"/><path d=\"M17.41 7.96l-1.37-1.37c-.4-.4-.92-.59-1.43-.59-.52 0-1.04.2-1.43.59L10.3 9.45l-7.72 7.72c-.78.78-.78 2.05 0 2.83L4 21.41c.39.39.9.59 1.41.59.51 0 1.02-.2 1.41-.59l7.78-7.78 2.81-2.81c.8-.78.8-2.07 0-2.86zM5.41 20L4 18.59l7.72-7.72 1.47 1.35L5.41 20z\"/>\n",
              "  </svg>\n",
              "      </button>\n",
              "      \n",
              "  <style>\n",
              "    .colab-df-container {\n",
              "      display:flex;\n",
              "      flex-wrap:wrap;\n",
              "      gap: 12px;\n",
              "    }\n",
              "\n",
              "    .colab-df-convert {\n",
              "      background-color: #E8F0FE;\n",
              "      border: none;\n",
              "      border-radius: 50%;\n",
              "      cursor: pointer;\n",
              "      display: none;\n",
              "      fill: #1967D2;\n",
              "      height: 32px;\n",
              "      padding: 0 0 0 0;\n",
              "      width: 32px;\n",
              "    }\n",
              "\n",
              "    .colab-df-convert:hover {\n",
              "      background-color: #E2EBFA;\n",
              "      box-shadow: 0px 1px 2px rgba(60, 64, 67, 0.3), 0px 1px 3px 1px rgba(60, 64, 67, 0.15);\n",
              "      fill: #174EA6;\n",
              "    }\n",
              "\n",
              "    [theme=dark] .colab-df-convert {\n",
              "      background-color: #3B4455;\n",
              "      fill: #D2E3FC;\n",
              "    }\n",
              "\n",
              "    [theme=dark] .colab-df-convert:hover {\n",
              "      background-color: #434B5C;\n",
              "      box-shadow: 0px 1px 3px 1px rgba(0, 0, 0, 0.15);\n",
              "      filter: drop-shadow(0px 1px 2px rgba(0, 0, 0, 0.3));\n",
              "      fill: #FFFFFF;\n",
              "    }\n",
              "  </style>\n",
              "\n",
              "      <script>\n",
              "        const buttonEl =\n",
              "          document.querySelector('#df-4ac0536d-848e-401d-890a-8d7396ed3211 button.colab-df-convert');\n",
              "        buttonEl.style.display =\n",
              "          google.colab.kernel.accessAllowed ? 'block' : 'none';\n",
              "\n",
              "        async function convertToInteractive(key) {\n",
              "          const element = document.querySelector('#df-4ac0536d-848e-401d-890a-8d7396ed3211');\n",
              "          const dataTable =\n",
              "            await google.colab.kernel.invokeFunction('convertToInteractive',\n",
              "                                                     [key], {});\n",
              "          if (!dataTable) return;\n",
              "\n",
              "          const docLinkHtml = 'Like what you see? Visit the ' +\n",
              "            '<a target=\"_blank\" href=https://colab.research.google.com/notebooks/data_table.ipynb>data table notebook</a>'\n",
              "            + ' to learn more about interactive tables.';\n",
              "          element.innerHTML = '';\n",
              "          dataTable['output_type'] = 'display_data';\n",
              "          await google.colab.output.renderOutput(dataTable, element);\n",
              "          const docLink = document.createElement('div');\n",
              "          docLink.innerHTML = docLinkHtml;\n",
              "          element.appendChild(docLink);\n",
              "        }\n",
              "      </script>\n",
              "    </div>\n",
              "  </div>\n",
              "  "
            ]
          },
          "metadata": {},
          "execution_count": 4
        }
      ]
    },
    {
      "cell_type": "code",
      "source": [
        "train_df.describe()"
      ],
      "metadata": {
        "colab": {
          "base_uri": "https://localhost:8080/",
          "height": 393
        },
        "id": "V7ae47z_pWUA",
        "outputId": "0feee302-8e7b-41b6-9f1e-e0d250bd4621"
      },
      "execution_count": null,
      "outputs": [
        {
          "output_type": "execute_result",
          "data": {
            "text/plain": [
              "       total_households  total_individuals       target        dw_00  \\\n",
              "count       2822.000000        2822.000000  2822.000000  2822.000000   \n",
              "mean        3665.281214       12869.130053    24.507554     0.712196   \n",
              "std         3266.364522        9696.690518    10.294387     0.214035   \n",
              "min            1.000000         402.000000     0.000000     0.000000   \n",
              "25%         1778.858235        7071.205695    16.751556     0.594212   \n",
              "50%         2398.249935        9366.989680    24.156670     0.766841   \n",
              "75%         3987.080563       14241.233015    32.226553     0.881708   \n",
              "max        39684.942130       91716.746370    55.528423     0.994962   \n",
              "\n",
              "             dw_01        dw_02        dw_03        dw_04        dw_05  \\\n",
              "count  2822.000000  2822.000000  2822.000000  2822.000000  2822.000000   \n",
              "mean      0.092616     0.032043     0.006057     0.008665     0.006289   \n",
              "std       0.182852     0.080253     0.019374     0.030697     0.024606   \n",
              "min       0.000000     0.000000     0.000000     0.000000     0.000000   \n",
              "25%       0.002895     0.002407     0.000000     0.000000     0.000000   \n",
              "50%       0.010425     0.005762     0.000807     0.000607     0.000865   \n",
              "75%       0.068209     0.027913     0.002538     0.002225     0.003027   \n",
              "max       0.931490     0.951806     0.264239     0.392085     0.435912   \n",
              "\n",
              "             dw_06  ...        pw_02        pw_03        pw_04        pw_05  \\\n",
              "count  2822.000000  ...  2822.000000  2822.000000  2822.000000  2822.000000   \n",
              "mean      0.022375  ...     0.127555     0.041589     0.019655     0.011008   \n",
              "std       0.037127  ...     0.156400     0.057331     0.032926     0.023672   \n",
              "min       0.000000  ...     0.000000     0.000000     0.000000     0.000000   \n",
              "25%       0.002716  ...     0.008673     0.002099     0.000715     0.000159   \n",
              "50%       0.008639  ...     0.069065     0.016496     0.005164     0.001459   \n",
              "75%       0.025218  ...     0.183384     0.058626     0.025055     0.009432   \n",
              "max       0.412936  ...     1.000000     0.327393     0.306787     0.228261   \n",
              "\n",
              "             pw_06   pw_07   pw_08          lat          lon           NL  \n",
              "count  2822.000000  2822.0  2822.0  2822.000000  2822.000000  2822.000000  \n",
              "mean      0.110818     0.0     0.0   -26.880740    28.666515    17.437560  \n",
              "std       0.185401     0.0     0.0     2.021279     2.373809    18.958621  \n",
              "min       0.000000     0.0     0.0   -32.490089    16.760022     0.000000  \n",
              "25%       0.005217     0.0     0.0   -28.569019    27.707932     3.033397  \n",
              "50%       0.025165     0.0     0.0   -26.549866    28.959679     9.205572  \n",
              "75%       0.116638     0.0     0.0   -25.572130    30.441505    26.890531  \n",
              "max       0.961523     0.0     0.0   -22.331267    32.858249    63.000000  \n",
              "\n",
              "[8 rows x 61 columns]"
            ],
            "text/html": [
              "\n",
              "  <div id=\"df-fa5ec400-82e4-4c78-8d5e-450238c20c0d\">\n",
              "    <div class=\"colab-df-container\">\n",
              "      <div>\n",
              "<style scoped>\n",
              "    .dataframe tbody tr th:only-of-type {\n",
              "        vertical-align: middle;\n",
              "    }\n",
              "\n",
              "    .dataframe tbody tr th {\n",
              "        vertical-align: top;\n",
              "    }\n",
              "\n",
              "    .dataframe thead th {\n",
              "        text-align: right;\n",
              "    }\n",
              "</style>\n",
              "<table border=\"1\" class=\"dataframe\">\n",
              "  <thead>\n",
              "    <tr style=\"text-align: right;\">\n",
              "      <th></th>\n",
              "      <th>total_households</th>\n",
              "      <th>total_individuals</th>\n",
              "      <th>target</th>\n",
              "      <th>dw_00</th>\n",
              "      <th>dw_01</th>\n",
              "      <th>dw_02</th>\n",
              "      <th>dw_03</th>\n",
              "      <th>dw_04</th>\n",
              "      <th>dw_05</th>\n",
              "      <th>dw_06</th>\n",
              "      <th>...</th>\n",
              "      <th>pw_02</th>\n",
              "      <th>pw_03</th>\n",
              "      <th>pw_04</th>\n",
              "      <th>pw_05</th>\n",
              "      <th>pw_06</th>\n",
              "      <th>pw_07</th>\n",
              "      <th>pw_08</th>\n",
              "      <th>lat</th>\n",
              "      <th>lon</th>\n",
              "      <th>NL</th>\n",
              "    </tr>\n",
              "  </thead>\n",
              "  <tbody>\n",
              "    <tr>\n",
              "      <th>count</th>\n",
              "      <td>2822.000000</td>\n",
              "      <td>2822.000000</td>\n",
              "      <td>2822.000000</td>\n",
              "      <td>2822.000000</td>\n",
              "      <td>2822.000000</td>\n",
              "      <td>2822.000000</td>\n",
              "      <td>2822.000000</td>\n",
              "      <td>2822.000000</td>\n",
              "      <td>2822.000000</td>\n",
              "      <td>2822.000000</td>\n",
              "      <td>...</td>\n",
              "      <td>2822.000000</td>\n",
              "      <td>2822.000000</td>\n",
              "      <td>2822.000000</td>\n",
              "      <td>2822.000000</td>\n",
              "      <td>2822.000000</td>\n",
              "      <td>2822.0</td>\n",
              "      <td>2822.0</td>\n",
              "      <td>2822.000000</td>\n",
              "      <td>2822.000000</td>\n",
              "      <td>2822.000000</td>\n",
              "    </tr>\n",
              "    <tr>\n",
              "      <th>mean</th>\n",
              "      <td>3665.281214</td>\n",
              "      <td>12869.130053</td>\n",
              "      <td>24.507554</td>\n",
              "      <td>0.712196</td>\n",
              "      <td>0.092616</td>\n",
              "      <td>0.032043</td>\n",
              "      <td>0.006057</td>\n",
              "      <td>0.008665</td>\n",
              "      <td>0.006289</td>\n",
              "      <td>0.022375</td>\n",
              "      <td>...</td>\n",
              "      <td>0.127555</td>\n",
              "      <td>0.041589</td>\n",
              "      <td>0.019655</td>\n",
              "      <td>0.011008</td>\n",
              "      <td>0.110818</td>\n",
              "      <td>0.0</td>\n",
              "      <td>0.0</td>\n",
              "      <td>-26.880740</td>\n",
              "      <td>28.666515</td>\n",
              "      <td>17.437560</td>\n",
              "    </tr>\n",
              "    <tr>\n",
              "      <th>std</th>\n",
              "      <td>3266.364522</td>\n",
              "      <td>9696.690518</td>\n",
              "      <td>10.294387</td>\n",
              "      <td>0.214035</td>\n",
              "      <td>0.182852</td>\n",
              "      <td>0.080253</td>\n",
              "      <td>0.019374</td>\n",
              "      <td>0.030697</td>\n",
              "      <td>0.024606</td>\n",
              "      <td>0.037127</td>\n",
              "      <td>...</td>\n",
              "      <td>0.156400</td>\n",
              "      <td>0.057331</td>\n",
              "      <td>0.032926</td>\n",
              "      <td>0.023672</td>\n",
              "      <td>0.185401</td>\n",
              "      <td>0.0</td>\n",
              "      <td>0.0</td>\n",
              "      <td>2.021279</td>\n",
              "      <td>2.373809</td>\n",
              "      <td>18.958621</td>\n",
              "    </tr>\n",
              "    <tr>\n",
              "      <th>min</th>\n",
              "      <td>1.000000</td>\n",
              "      <td>402.000000</td>\n",
              "      <td>0.000000</td>\n",
              "      <td>0.000000</td>\n",
              "      <td>0.000000</td>\n",
              "      <td>0.000000</td>\n",
              "      <td>0.000000</td>\n",
              "      <td>0.000000</td>\n",
              "      <td>0.000000</td>\n",
              "      <td>0.000000</td>\n",
              "      <td>...</td>\n",
              "      <td>0.000000</td>\n",
              "      <td>0.000000</td>\n",
              "      <td>0.000000</td>\n",
              "      <td>0.000000</td>\n",
              "      <td>0.000000</td>\n",
              "      <td>0.0</td>\n",
              "      <td>0.0</td>\n",
              "      <td>-32.490089</td>\n",
              "      <td>16.760022</td>\n",
              "      <td>0.000000</td>\n",
              "    </tr>\n",
              "    <tr>\n",
              "      <th>25%</th>\n",
              "      <td>1778.858235</td>\n",
              "      <td>7071.205695</td>\n",
              "      <td>16.751556</td>\n",
              "      <td>0.594212</td>\n",
              "      <td>0.002895</td>\n",
              "      <td>0.002407</td>\n",
              "      <td>0.000000</td>\n",
              "      <td>0.000000</td>\n",
              "      <td>0.000000</td>\n",
              "      <td>0.002716</td>\n",
              "      <td>...</td>\n",
              "      <td>0.008673</td>\n",
              "      <td>0.002099</td>\n",
              "      <td>0.000715</td>\n",
              "      <td>0.000159</td>\n",
              "      <td>0.005217</td>\n",
              "      <td>0.0</td>\n",
              "      <td>0.0</td>\n",
              "      <td>-28.569019</td>\n",
              "      <td>27.707932</td>\n",
              "      <td>3.033397</td>\n",
              "    </tr>\n",
              "    <tr>\n",
              "      <th>50%</th>\n",
              "      <td>2398.249935</td>\n",
              "      <td>9366.989680</td>\n",
              "      <td>24.156670</td>\n",
              "      <td>0.766841</td>\n",
              "      <td>0.010425</td>\n",
              "      <td>0.005762</td>\n",
              "      <td>0.000807</td>\n",
              "      <td>0.000607</td>\n",
              "      <td>0.000865</td>\n",
              "      <td>0.008639</td>\n",
              "      <td>...</td>\n",
              "      <td>0.069065</td>\n",
              "      <td>0.016496</td>\n",
              "      <td>0.005164</td>\n",
              "      <td>0.001459</td>\n",
              "      <td>0.025165</td>\n",
              "      <td>0.0</td>\n",
              "      <td>0.0</td>\n",
              "      <td>-26.549866</td>\n",
              "      <td>28.959679</td>\n",
              "      <td>9.205572</td>\n",
              "    </tr>\n",
              "    <tr>\n",
              "      <th>75%</th>\n",
              "      <td>3987.080563</td>\n",
              "      <td>14241.233015</td>\n",
              "      <td>32.226553</td>\n",
              "      <td>0.881708</td>\n",
              "      <td>0.068209</td>\n",
              "      <td>0.027913</td>\n",
              "      <td>0.002538</td>\n",
              "      <td>0.002225</td>\n",
              "      <td>0.003027</td>\n",
              "      <td>0.025218</td>\n",
              "      <td>...</td>\n",
              "      <td>0.183384</td>\n",
              "      <td>0.058626</td>\n",
              "      <td>0.025055</td>\n",
              "      <td>0.009432</td>\n",
              "      <td>0.116638</td>\n",
              "      <td>0.0</td>\n",
              "      <td>0.0</td>\n",
              "      <td>-25.572130</td>\n",
              "      <td>30.441505</td>\n",
              "      <td>26.890531</td>\n",
              "    </tr>\n",
              "    <tr>\n",
              "      <th>max</th>\n",
              "      <td>39684.942130</td>\n",
              "      <td>91716.746370</td>\n",
              "      <td>55.528423</td>\n",
              "      <td>0.994962</td>\n",
              "      <td>0.931490</td>\n",
              "      <td>0.951806</td>\n",
              "      <td>0.264239</td>\n",
              "      <td>0.392085</td>\n",
              "      <td>0.435912</td>\n",
              "      <td>0.412936</td>\n",
              "      <td>...</td>\n",
              "      <td>1.000000</td>\n",
              "      <td>0.327393</td>\n",
              "      <td>0.306787</td>\n",
              "      <td>0.228261</td>\n",
              "      <td>0.961523</td>\n",
              "      <td>0.0</td>\n",
              "      <td>0.0</td>\n",
              "      <td>-22.331267</td>\n",
              "      <td>32.858249</td>\n",
              "      <td>63.000000</td>\n",
              "    </tr>\n",
              "  </tbody>\n",
              "</table>\n",
              "<p>8 rows × 61 columns</p>\n",
              "</div>\n",
              "      <button class=\"colab-df-convert\" onclick=\"convertToInteractive('df-fa5ec400-82e4-4c78-8d5e-450238c20c0d')\"\n",
              "              title=\"Convert this dataframe to an interactive table.\"\n",
              "              style=\"display:none;\">\n",
              "        \n",
              "  <svg xmlns=\"http://www.w3.org/2000/svg\" height=\"24px\"viewBox=\"0 0 24 24\"\n",
              "       width=\"24px\">\n",
              "    <path d=\"M0 0h24v24H0V0z\" fill=\"none\"/>\n",
              "    <path d=\"M18.56 5.44l.94 2.06.94-2.06 2.06-.94-2.06-.94-.94-2.06-.94 2.06-2.06.94zm-11 1L8.5 8.5l.94-2.06 2.06-.94-2.06-.94L8.5 2.5l-.94 2.06-2.06.94zm10 10l.94 2.06.94-2.06 2.06-.94-2.06-.94-.94-2.06-.94 2.06-2.06.94z\"/><path d=\"M17.41 7.96l-1.37-1.37c-.4-.4-.92-.59-1.43-.59-.52 0-1.04.2-1.43.59L10.3 9.45l-7.72 7.72c-.78.78-.78 2.05 0 2.83L4 21.41c.39.39.9.59 1.41.59.51 0 1.02-.2 1.41-.59l7.78-7.78 2.81-2.81c.8-.78.8-2.07 0-2.86zM5.41 20L4 18.59l7.72-7.72 1.47 1.35L5.41 20z\"/>\n",
              "  </svg>\n",
              "      </button>\n",
              "      \n",
              "  <style>\n",
              "    .colab-df-container {\n",
              "      display:flex;\n",
              "      flex-wrap:wrap;\n",
              "      gap: 12px;\n",
              "    }\n",
              "\n",
              "    .colab-df-convert {\n",
              "      background-color: #E8F0FE;\n",
              "      border: none;\n",
              "      border-radius: 50%;\n",
              "      cursor: pointer;\n",
              "      display: none;\n",
              "      fill: #1967D2;\n",
              "      height: 32px;\n",
              "      padding: 0 0 0 0;\n",
              "      width: 32px;\n",
              "    }\n",
              "\n",
              "    .colab-df-convert:hover {\n",
              "      background-color: #E2EBFA;\n",
              "      box-shadow: 0px 1px 2px rgba(60, 64, 67, 0.3), 0px 1px 3px 1px rgba(60, 64, 67, 0.15);\n",
              "      fill: #174EA6;\n",
              "    }\n",
              "\n",
              "    [theme=dark] .colab-df-convert {\n",
              "      background-color: #3B4455;\n",
              "      fill: #D2E3FC;\n",
              "    }\n",
              "\n",
              "    [theme=dark] .colab-df-convert:hover {\n",
              "      background-color: #434B5C;\n",
              "      box-shadow: 0px 1px 3px 1px rgba(0, 0, 0, 0.15);\n",
              "      filter: drop-shadow(0px 1px 2px rgba(0, 0, 0, 0.3));\n",
              "      fill: #FFFFFF;\n",
              "    }\n",
              "  </style>\n",
              "\n",
              "      <script>\n",
              "        const buttonEl =\n",
              "          document.querySelector('#df-fa5ec400-82e4-4c78-8d5e-450238c20c0d button.colab-df-convert');\n",
              "        buttonEl.style.display =\n",
              "          google.colab.kernel.accessAllowed ? 'block' : 'none';\n",
              "\n",
              "        async function convertToInteractive(key) {\n",
              "          const element = document.querySelector('#df-fa5ec400-82e4-4c78-8d5e-450238c20c0d');\n",
              "          const dataTable =\n",
              "            await google.colab.kernel.invokeFunction('convertToInteractive',\n",
              "                                                     [key], {});\n",
              "          if (!dataTable) return;\n",
              "\n",
              "          const docLinkHtml = 'Like what you see? Visit the ' +\n",
              "            '<a target=\"_blank\" href=https://colab.research.google.com/notebooks/data_table.ipynb>data table notebook</a>'\n",
              "            + ' to learn more about interactive tables.';\n",
              "          element.innerHTML = '';\n",
              "          dataTable['output_type'] = 'display_data';\n",
              "          await google.colab.output.renderOutput(dataTable, element);\n",
              "          const docLink = document.createElement('div');\n",
              "          docLink.innerHTML = docLinkHtml;\n",
              "          element.appendChild(docLink);\n",
              "        }\n",
              "      </script>\n",
              "    </div>\n",
              "  </div>\n",
              "  "
            ]
          },
          "metadata": {},
          "execution_count": 5
        }
      ]
    },
    {
      "cell_type": "code",
      "source": [
        "train_df.columns.tolist()"
      ],
      "metadata": {
        "colab": {
          "base_uri": "https://localhost:8080/"
        },
        "id": "nnPb9gwQpfPl",
        "outputId": "503104df-bd89-47a1-910f-81ce04d93a8d"
      },
      "execution_count": null,
      "outputs": [
        {
          "output_type": "execute_result",
          "data": {
            "text/plain": [
              "['ward',\n",
              " 'total_households',\n",
              " 'total_individuals',\n",
              " 'target',\n",
              " 'dw_00',\n",
              " 'dw_01',\n",
              " 'dw_02',\n",
              " 'dw_03',\n",
              " 'dw_04',\n",
              " 'dw_05',\n",
              " 'dw_06',\n",
              " 'dw_07',\n",
              " 'dw_08',\n",
              " 'dw_09',\n",
              " 'dw_10',\n",
              " 'dw_11',\n",
              " 'dw_12',\n",
              " 'dw_13',\n",
              " 'psa_00',\n",
              " 'psa_01',\n",
              " 'psa_02',\n",
              " 'psa_03',\n",
              " 'psa_04',\n",
              " 'stv_00',\n",
              " 'stv_01',\n",
              " 'car_00',\n",
              " 'car_01',\n",
              " 'lln_00',\n",
              " 'lln_01',\n",
              " 'lan_00',\n",
              " 'lan_01',\n",
              " 'lan_02',\n",
              " 'lan_03',\n",
              " 'lan_04',\n",
              " 'lan_05',\n",
              " 'lan_06',\n",
              " 'lan_07',\n",
              " 'lan_08',\n",
              " 'lan_09',\n",
              " 'lan_10',\n",
              " 'lan_11',\n",
              " 'lan_12',\n",
              " 'lan_13',\n",
              " 'lan_14',\n",
              " 'pg_00',\n",
              " 'pg_01',\n",
              " 'pg_02',\n",
              " 'pg_03',\n",
              " 'pg_04',\n",
              " 'lgt_00',\n",
              " 'pw_00',\n",
              " 'pw_01',\n",
              " 'pw_02',\n",
              " 'pw_03',\n",
              " 'pw_04',\n",
              " 'pw_05',\n",
              " 'pw_06',\n",
              " 'pw_07',\n",
              " 'pw_08',\n",
              " 'ADM4_PCODE',\n",
              " 'lat',\n",
              " 'lon',\n",
              " 'NL']"
            ]
          },
          "metadata": {},
          "execution_count": 6
        }
      ]
    },
    {
      "cell_type": "code",
      "source": [
        "def combineFeatures(df):\n",
        "\n",
        "  df['total_dw'] = df['dw_00']*df['dw_01']*df['dw_02'] +\\\n",
        "  df['dw_03']*df['dw_04']* df['dw_05']+df['dw_06']*df['dw_07']*\\\n",
        "  df['dw_08']*df['dw_09']*df['dw_10']*df['dw_11']*df['dw_12']*df['dw_13']\n",
        "  # for p\n",
        "  df['total_pg'] = df['pg_00']*df['pg_01']*df['pg_02']* df['pg_03']*df['pg_04']\n",
        "  # for ps\n",
        "  df['total_psa'] = df['psa_00']* df['psa_01']*df['psa_02'] * df['psa_03']* df['psa_04']\n",
        "  # for la\n",
        "  df['toal_lan'] = df['lan_00']* df['lan_01']*df['lan_02']*df['lan_03']*\\\n",
        "  df['lan_04']*df['lan_05']*df['lan_06']*df['lan_07']*df['lan_08']*df['lan_09']*\\\n",
        "  df['lan_10']*df['lan_11']*df['lan_12']*df['lan_13']*df['lan_14']\n",
        "  return df\n"
      ],
      "metadata": {
        "id": "bs76jHDypsdu"
      },
      "execution_count": null,
      "outputs": []
    },
    {
      "cell_type": "code",
      "source": [
        "# train_df['total_pg'] = train_df['pg_00']+train_df['pg_01']+train_df['pg_02']+ train_df['pg_03']+train_df['pg_04']"
      ],
      "metadata": {
        "id": "efr6xxo6q50t"
      },
      "execution_count": null,
      "outputs": []
    },
    {
      "cell_type": "code",
      "source": [
        "# train_df['total_psa'] = train_df['psa_00']+ train_df['psa_01']+train_df['psa_02'] + train_df['psa_03']+ train_df['psa_04']"
      ],
      "metadata": {
        "id": "JcbRRmrqs58G"
      },
      "execution_count": null,
      "outputs": []
    },
    {
      "cell_type": "code",
      "source": [
        "# df['toal_lat'] = df['lan_00']+ df['lan_01']+df['lan_02']+df['lan_03']+\\\n",
        "# df['lan_04']+df['lan_05']+df['lan_06']+df['lan_07']+df['lan_08']+df['lan_09']+\\\n",
        "# df['lan_10']+df['lan_11']+df['lan_12']+df['lan_13']+df['lan_14']"
      ],
      "metadata": {
        "id": "pKjgDOwxuApv"
      },
      "execution_count": null,
      "outputs": []
    },
    {
      "cell_type": "code",
      "source": [
        "train_df = combineFeatures(train_df)\n",
        "train_df.head()"
      ],
      "metadata": {
        "colab": {
          "base_uri": "https://localhost:8080/",
          "height": 386
        },
        "id": "wM9sMeyiwAsD",
        "outputId": "e1447101-eff1-4b6e-f16b-9485ee7b4783"
      },
      "execution_count": null,
      "outputs": [
        {
          "output_type": "execute_result",
          "data": {
            "text/plain": [
              "               ward  total_households  total_individuals     target     dw_00  \\\n",
              "0  41601001: Ward 1        1674.45058         5888.20750  16.773757  0.933841   \n",
              "1  41601002: Ward 2        1736.99230         6735.33812  21.496661  0.696940   \n",
              "2  41601003: Ward 3        2403.57591         7273.04995  10.931425  0.810545   \n",
              "3  41601004: Ward 4        1740.78737         5734.49046  23.119257  0.659914   \n",
              "4  41601005: Ward 5        1730.51451         6657.23835  13.652252  0.950575   \n",
              "\n",
              "      dw_01     dw_02     dw_03     dw_04     dw_05  ...  pw_07  pw_08  \\\n",
              "0  0.000846  0.005490  0.000676  0.000000  0.001372  ...      0      0   \n",
              "1  0.001253  0.004402  0.000000  0.002301  0.001323  ...      0      0   \n",
              "2  0.004517  0.008891  0.003986  0.007735  0.000956  ...      0      0   \n",
              "3  0.000000  0.006129  0.000000  0.000813  0.037245  ...      0      0   \n",
              "4  0.000655  0.001473  0.000598  0.006999  0.000818  ...      0      0   \n",
              "\n",
              "   ADM4_PCODE        lat        lon        NL      total_dw      total_pg  \\\n",
              "0   ZA4161001 -29.682270  24.734743  0.292039  4.335956e-06  1.328843e-07   \n",
              "1   ZA4161002 -29.119311  24.757737  3.207775  3.843874e-06  4.584815e-08   \n",
              "2   ZA4161003 -29.142276  25.094093  0.000000  3.258106e-05  1.382226e-07   \n",
              "3   ZA4161004 -29.372052  24.942867  2.038778  0.000000e+00  1.788936e-09   \n",
              "4   ZA4161005 -29.409381  25.290165  0.000000  9.198228e-07  2.542189e-07   \n",
              "\n",
              "      total_psa  toal_lan  \n",
              "0  3.628273e-08       0.0  \n",
              "1  0.000000e+00       0.0  \n",
              "2  1.509970e-07       0.0  \n",
              "3  8.240652e-08       0.0  \n",
              "4  1.449191e-07       0.0  \n",
              "\n",
              "[5 rows x 67 columns]"
            ],
            "text/html": [
              "\n",
              "  <div id=\"df-4be47006-8b17-49bb-a8dd-b3b631a2d1e5\">\n",
              "    <div class=\"colab-df-container\">\n",
              "      <div>\n",
              "<style scoped>\n",
              "    .dataframe tbody tr th:only-of-type {\n",
              "        vertical-align: middle;\n",
              "    }\n",
              "\n",
              "    .dataframe tbody tr th {\n",
              "        vertical-align: top;\n",
              "    }\n",
              "\n",
              "    .dataframe thead th {\n",
              "        text-align: right;\n",
              "    }\n",
              "</style>\n",
              "<table border=\"1\" class=\"dataframe\">\n",
              "  <thead>\n",
              "    <tr style=\"text-align: right;\">\n",
              "      <th></th>\n",
              "      <th>ward</th>\n",
              "      <th>total_households</th>\n",
              "      <th>total_individuals</th>\n",
              "      <th>target</th>\n",
              "      <th>dw_00</th>\n",
              "      <th>dw_01</th>\n",
              "      <th>dw_02</th>\n",
              "      <th>dw_03</th>\n",
              "      <th>dw_04</th>\n",
              "      <th>dw_05</th>\n",
              "      <th>...</th>\n",
              "      <th>pw_07</th>\n",
              "      <th>pw_08</th>\n",
              "      <th>ADM4_PCODE</th>\n",
              "      <th>lat</th>\n",
              "      <th>lon</th>\n",
              "      <th>NL</th>\n",
              "      <th>total_dw</th>\n",
              "      <th>total_pg</th>\n",
              "      <th>total_psa</th>\n",
              "      <th>toal_lan</th>\n",
              "    </tr>\n",
              "  </thead>\n",
              "  <tbody>\n",
              "    <tr>\n",
              "      <th>0</th>\n",
              "      <td>41601001: Ward 1</td>\n",
              "      <td>1674.45058</td>\n",
              "      <td>5888.20750</td>\n",
              "      <td>16.773757</td>\n",
              "      <td>0.933841</td>\n",
              "      <td>0.000846</td>\n",
              "      <td>0.005490</td>\n",
              "      <td>0.000676</td>\n",
              "      <td>0.000000</td>\n",
              "      <td>0.001372</td>\n",
              "      <td>...</td>\n",
              "      <td>0</td>\n",
              "      <td>0</td>\n",
              "      <td>ZA4161001</td>\n",
              "      <td>-29.682270</td>\n",
              "      <td>24.734743</td>\n",
              "      <td>0.292039</td>\n",
              "      <td>4.335956e-06</td>\n",
              "      <td>1.328843e-07</td>\n",
              "      <td>3.628273e-08</td>\n",
              "      <td>0.0</td>\n",
              "    </tr>\n",
              "    <tr>\n",
              "      <th>1</th>\n",
              "      <td>41601002: Ward 2</td>\n",
              "      <td>1736.99230</td>\n",
              "      <td>6735.33812</td>\n",
              "      <td>21.496661</td>\n",
              "      <td>0.696940</td>\n",
              "      <td>0.001253</td>\n",
              "      <td>0.004402</td>\n",
              "      <td>0.000000</td>\n",
              "      <td>0.002301</td>\n",
              "      <td>0.001323</td>\n",
              "      <td>...</td>\n",
              "      <td>0</td>\n",
              "      <td>0</td>\n",
              "      <td>ZA4161002</td>\n",
              "      <td>-29.119311</td>\n",
              "      <td>24.757737</td>\n",
              "      <td>3.207775</td>\n",
              "      <td>3.843874e-06</td>\n",
              "      <td>4.584815e-08</td>\n",
              "      <td>0.000000e+00</td>\n",
              "      <td>0.0</td>\n",
              "    </tr>\n",
              "    <tr>\n",
              "      <th>2</th>\n",
              "      <td>41601003: Ward 3</td>\n",
              "      <td>2403.57591</td>\n",
              "      <td>7273.04995</td>\n",
              "      <td>10.931425</td>\n",
              "      <td>0.810545</td>\n",
              "      <td>0.004517</td>\n",
              "      <td>0.008891</td>\n",
              "      <td>0.003986</td>\n",
              "      <td>0.007735</td>\n",
              "      <td>0.000956</td>\n",
              "      <td>...</td>\n",
              "      <td>0</td>\n",
              "      <td>0</td>\n",
              "      <td>ZA4161003</td>\n",
              "      <td>-29.142276</td>\n",
              "      <td>25.094093</td>\n",
              "      <td>0.000000</td>\n",
              "      <td>3.258106e-05</td>\n",
              "      <td>1.382226e-07</td>\n",
              "      <td>1.509970e-07</td>\n",
              "      <td>0.0</td>\n",
              "    </tr>\n",
              "    <tr>\n",
              "      <th>3</th>\n",
              "      <td>41601004: Ward 4</td>\n",
              "      <td>1740.78737</td>\n",
              "      <td>5734.49046</td>\n",
              "      <td>23.119257</td>\n",
              "      <td>0.659914</td>\n",
              "      <td>0.000000</td>\n",
              "      <td>0.006129</td>\n",
              "      <td>0.000000</td>\n",
              "      <td>0.000813</td>\n",
              "      <td>0.037245</td>\n",
              "      <td>...</td>\n",
              "      <td>0</td>\n",
              "      <td>0</td>\n",
              "      <td>ZA4161004</td>\n",
              "      <td>-29.372052</td>\n",
              "      <td>24.942867</td>\n",
              "      <td>2.038778</td>\n",
              "      <td>0.000000e+00</td>\n",
              "      <td>1.788936e-09</td>\n",
              "      <td>8.240652e-08</td>\n",
              "      <td>0.0</td>\n",
              "    </tr>\n",
              "    <tr>\n",
              "      <th>4</th>\n",
              "      <td>41601005: Ward 5</td>\n",
              "      <td>1730.51451</td>\n",
              "      <td>6657.23835</td>\n",
              "      <td>13.652252</td>\n",
              "      <td>0.950575</td>\n",
              "      <td>0.000655</td>\n",
              "      <td>0.001473</td>\n",
              "      <td>0.000598</td>\n",
              "      <td>0.006999</td>\n",
              "      <td>0.000818</td>\n",
              "      <td>...</td>\n",
              "      <td>0</td>\n",
              "      <td>0</td>\n",
              "      <td>ZA4161005</td>\n",
              "      <td>-29.409381</td>\n",
              "      <td>25.290165</td>\n",
              "      <td>0.000000</td>\n",
              "      <td>9.198228e-07</td>\n",
              "      <td>2.542189e-07</td>\n",
              "      <td>1.449191e-07</td>\n",
              "      <td>0.0</td>\n",
              "    </tr>\n",
              "  </tbody>\n",
              "</table>\n",
              "<p>5 rows × 67 columns</p>\n",
              "</div>\n",
              "      <button class=\"colab-df-convert\" onclick=\"convertToInteractive('df-4be47006-8b17-49bb-a8dd-b3b631a2d1e5')\"\n",
              "              title=\"Convert this dataframe to an interactive table.\"\n",
              "              style=\"display:none;\">\n",
              "        \n",
              "  <svg xmlns=\"http://www.w3.org/2000/svg\" height=\"24px\"viewBox=\"0 0 24 24\"\n",
              "       width=\"24px\">\n",
              "    <path d=\"M0 0h24v24H0V0z\" fill=\"none\"/>\n",
              "    <path d=\"M18.56 5.44l.94 2.06.94-2.06 2.06-.94-2.06-.94-.94-2.06-.94 2.06-2.06.94zm-11 1L8.5 8.5l.94-2.06 2.06-.94-2.06-.94L8.5 2.5l-.94 2.06-2.06.94zm10 10l.94 2.06.94-2.06 2.06-.94-2.06-.94-.94-2.06-.94 2.06-2.06.94z\"/><path d=\"M17.41 7.96l-1.37-1.37c-.4-.4-.92-.59-1.43-.59-.52 0-1.04.2-1.43.59L10.3 9.45l-7.72 7.72c-.78.78-.78 2.05 0 2.83L4 21.41c.39.39.9.59 1.41.59.51 0 1.02-.2 1.41-.59l7.78-7.78 2.81-2.81c.8-.78.8-2.07 0-2.86zM5.41 20L4 18.59l7.72-7.72 1.47 1.35L5.41 20z\"/>\n",
              "  </svg>\n",
              "      </button>\n",
              "      \n",
              "  <style>\n",
              "    .colab-df-container {\n",
              "      display:flex;\n",
              "      flex-wrap:wrap;\n",
              "      gap: 12px;\n",
              "    }\n",
              "\n",
              "    .colab-df-convert {\n",
              "      background-color: #E8F0FE;\n",
              "      border: none;\n",
              "      border-radius: 50%;\n",
              "      cursor: pointer;\n",
              "      display: none;\n",
              "      fill: #1967D2;\n",
              "      height: 32px;\n",
              "      padding: 0 0 0 0;\n",
              "      width: 32px;\n",
              "    }\n",
              "\n",
              "    .colab-df-convert:hover {\n",
              "      background-color: #E2EBFA;\n",
              "      box-shadow: 0px 1px 2px rgba(60, 64, 67, 0.3), 0px 1px 3px 1px rgba(60, 64, 67, 0.15);\n",
              "      fill: #174EA6;\n",
              "    }\n",
              "\n",
              "    [theme=dark] .colab-df-convert {\n",
              "      background-color: #3B4455;\n",
              "      fill: #D2E3FC;\n",
              "    }\n",
              "\n",
              "    [theme=dark] .colab-df-convert:hover {\n",
              "      background-color: #434B5C;\n",
              "      box-shadow: 0px 1px 3px 1px rgba(0, 0, 0, 0.15);\n",
              "      filter: drop-shadow(0px 1px 2px rgba(0, 0, 0, 0.3));\n",
              "      fill: #FFFFFF;\n",
              "    }\n",
              "  </style>\n",
              "\n",
              "      <script>\n",
              "        const buttonEl =\n",
              "          document.querySelector('#df-4be47006-8b17-49bb-a8dd-b3b631a2d1e5 button.colab-df-convert');\n",
              "        buttonEl.style.display =\n",
              "          google.colab.kernel.accessAllowed ? 'block' : 'none';\n",
              "\n",
              "        async function convertToInteractive(key) {\n",
              "          const element = document.querySelector('#df-4be47006-8b17-49bb-a8dd-b3b631a2d1e5');\n",
              "          const dataTable =\n",
              "            await google.colab.kernel.invokeFunction('convertToInteractive',\n",
              "                                                     [key], {});\n",
              "          if (!dataTable) return;\n",
              "\n",
              "          const docLinkHtml = 'Like what you see? Visit the ' +\n",
              "            '<a target=\"_blank\" href=https://colab.research.google.com/notebooks/data_table.ipynb>data table notebook</a>'\n",
              "            + ' to learn more about interactive tables.';\n",
              "          element.innerHTML = '';\n",
              "          dataTable['output_type'] = 'display_data';\n",
              "          await google.colab.output.renderOutput(dataTable, element);\n",
              "          const docLink = document.createElement('div');\n",
              "          docLink.innerHTML = docLinkHtml;\n",
              "          element.appendChild(docLink);\n",
              "        }\n",
              "      </script>\n",
              "    </div>\n",
              "  </div>\n",
              "  "
            ]
          },
          "metadata": {},
          "execution_count": 11
        }
      ]
    },
    {
      "cell_type": "code",
      "source": [
        "train_df['meantotal_households'] = train_df.groupby('total_households')['total_individuals'].transform('mean')\n",
        "\n",
        "test_df['meantotal_households'] = test_df.groupby('total_households')['total_individuals'].transform('mean')\n"
      ],
      "metadata": {
        "id": "neKNSQB8wbe0"
      },
      "execution_count": null,
      "outputs": []
    },
    {
      "cell_type": "code",
      "source": [
        "test_df = combineFeatures(test_df)"
      ],
      "metadata": {
        "id": "YS7G2TWfzldj"
      },
      "execution_count": null,
      "outputs": []
    },
    {
      "cell_type": "code",
      "source": [
        "train_df.shape, test_df.shape"
      ],
      "metadata": {
        "colab": {
          "base_uri": "https://localhost:8080/"
        },
        "id": "YkoMdyNCyA9e",
        "outputId": "6ec3a901-e4a4-4b82-f752-a678712aa62f"
      },
      "execution_count": null,
      "outputs": [
        {
          "output_type": "execute_result",
          "data": {
            "text/plain": [
              "((2822, 68), (1013, 67))"
            ]
          },
          "metadata": {},
          "execution_count": 14
        }
      ]
    },
    {
      "cell_type": "code",
      "source": [
        "test_col = test_df.ward\n",
        "test_col.head()"
      ],
      "metadata": {
        "colab": {
          "base_uri": "https://localhost:8080/"
        },
        "id": "Cq92X65ozBl6",
        "outputId": "94d1c082-2094-42db-ab56-c91f91fa75e2"
      },
      "execution_count": null,
      "outputs": [
        {
          "output_type": "execute_result",
          "data": {
            "text/plain": [
              "0    21001001: Ward 1\n",
              "1    21001002: Ward 2\n",
              "2    21001003: Ward 3\n",
              "3    21001004: Ward 4\n",
              "4    21001005: Ward 5\n",
              "Name: ward, dtype: object"
            ]
          },
          "metadata": {},
          "execution_count": 15
        }
      ]
    },
    {
      "cell_type": "code",
      "source": [
        "train_df.dtypes"
      ],
      "metadata": {
        "colab": {
          "base_uri": "https://localhost:8080/"
        },
        "id": "ydzbjdi61Ohw",
        "outputId": "817108ec-d3c7-43aa-ece2-b4269aebce86"
      },
      "execution_count": null,
      "outputs": [
        {
          "output_type": "execute_result",
          "data": {
            "text/plain": [
              "ward                     object\n",
              "total_households        float64\n",
              "total_individuals       float64\n",
              "target                  float64\n",
              "dw_00                   float64\n",
              "                         ...   \n",
              "total_dw                float64\n",
              "total_pg                float64\n",
              "total_psa               float64\n",
              "toal_lan                float64\n",
              "meantotal_households    float64\n",
              "Length: 68, dtype: object"
            ]
          },
          "metadata": {},
          "execution_count": 16
        }
      ]
    },
    {
      "cell_type": "code",
      "source": [
        "train_df.columns"
      ],
      "metadata": {
        "colab": {
          "base_uri": "https://localhost:8080/"
        },
        "id": "eyGmMfHC1hyW",
        "outputId": "8ce63cde-b94a-430b-b564-4908cc77a6c1"
      },
      "execution_count": null,
      "outputs": [
        {
          "output_type": "execute_result",
          "data": {
            "text/plain": [
              "Index(['ward', 'total_households', 'total_individuals', 'target', 'dw_00',\n",
              "       'dw_01', 'dw_02', 'dw_03', 'dw_04', 'dw_05', 'dw_06', 'dw_07', 'dw_08',\n",
              "       'dw_09', 'dw_10', 'dw_11', 'dw_12', 'dw_13', 'psa_00', 'psa_01',\n",
              "       'psa_02', 'psa_03', 'psa_04', 'stv_00', 'stv_01', 'car_00', 'car_01',\n",
              "       'lln_00', 'lln_01', 'lan_00', 'lan_01', 'lan_02', 'lan_03', 'lan_04',\n",
              "       'lan_05', 'lan_06', 'lan_07', 'lan_08', 'lan_09', 'lan_10', 'lan_11',\n",
              "       'lan_12', 'lan_13', 'lan_14', 'pg_00', 'pg_01', 'pg_02', 'pg_03',\n",
              "       'pg_04', 'lgt_00', 'pw_00', 'pw_01', 'pw_02', 'pw_03', 'pw_04', 'pw_05',\n",
              "       'pw_06', 'pw_07', 'pw_08', 'ADM4_PCODE', 'lat', 'lon', 'NL', 'total_dw',\n",
              "       'total_pg', 'total_psa', 'toal_lan', 'meantotal_households'],\n",
              "      dtype='object')"
            ]
          },
          "metadata": {},
          "execution_count": 17
        }
      ]
    },
    {
      "cell_type": "code",
      "source": [
        "X = train_df.drop(['ward','ADM4_PCODE','target'],axis=1)\n",
        "y = train_df.target"
      ],
      "metadata": {
        "id": "2gCJmXT-1ZTm"
      },
      "execution_count": null,
      "outputs": []
    },
    {
      "cell_type": "code",
      "source": [
        "test = test_df.drop(['ward','ADM4_PCODE'],axis=1)"
      ],
      "metadata": {
        "id": "T5QjQ0bA1tuQ"
      },
      "execution_count": null,
      "outputs": []
    },
    {
      "cell_type": "code",
      "source": [
        "X.shape,test.shape"
      ],
      "metadata": {
        "colab": {
          "base_uri": "https://localhost:8080/"
        },
        "id": "RV4lgxkg15V4",
        "outputId": "0bf2b437-3d08-4c10-af3e-d47a3776a84c"
      },
      "execution_count": null,
      "outputs": [
        {
          "output_type": "execute_result",
          "data": {
            "text/plain": [
              "((2822, 65), (1013, 65))"
            ]
          },
          "metadata": {},
          "execution_count": 20
        }
      ]
    },
    {
      "cell_type": "code",
      "source": [
        "test.columns == X.columns"
      ],
      "metadata": {
        "colab": {
          "base_uri": "https://localhost:8080/"
        },
        "id": "lLtf1to717hZ",
        "outputId": "ca739222-b2c5-43dc-9752-fee0f5f7f2da"
      },
      "execution_count": null,
      "outputs": [
        {
          "output_type": "execute_result",
          "data": {
            "text/plain": [
              "array([ True,  True,  True,  True,  True,  True,  True,  True,  True,\n",
              "        True,  True,  True,  True,  True,  True,  True,  True,  True,\n",
              "        True,  True,  True,  True,  True,  True,  True,  True,  True,\n",
              "        True,  True,  True,  True,  True,  True,  True,  True,  True,\n",
              "        True,  True,  True,  True,  True,  True,  True,  True,  True,\n",
              "        True,  True,  True,  True,  True,  True,  True,  True,  True,\n",
              "        True,  True,  True,  True,  True,  True, False, False, False,\n",
              "       False, False])"
            ]
          },
          "metadata": {},
          "execution_count": 21
        }
      ]
    },
    {
      "cell_type": "code",
      "source": [
        "import numpy as np\n",
        "import pandas as pd\n",
        "import matplotlib.pyplot as plt\n",
        "import seaborn as sns\n",
        "import warnings\n",
        "from catboost import CatBoostRegressor\n",
        "from lightgbm import LGBMRegressor\n",
        "from xgboost import XGBRegressor\n",
        "from sklearn.model_selection import KFold\n",
        "from sklearn.metrics import mean_squared_error\n",
        "\n",
        "warnings.filterwarnings('ignore')\n",
        "from random import seed\n",
        "seed = 42\n",
        "seed = seed\n",
        "np.random.seed(seed)"
      ],
      "metadata": {
        "id": "uKOkpBeq2Evf"
      },
      "execution_count": null,
      "outputs": []
    },
    {
      "cell_type": "code",
      "source": [
        "err=[]\n",
        "y_pred_totcb=[]\n",
        "\n",
        "fold=KFold(n_splits=5, random_state=1234,shuffle=True)\n",
        "for train_index, test_index in fold.split(X,y):\n",
        "    X_train, X_test = X.iloc[train_index], X.iloc[test_index]\n",
        "    y_train, y_test = y.iloc[train_index], y.iloc[test_index]\n",
        "    m1 = CatBoostRegressor(random_seed=seed, eval_metric='RMSE',task_type='GPU')\n",
        "    m1.fit(X_train,y_train,eval_set=[(X_test, y_test)], early_stopping_rounds=500,verbose=100)\n",
        "    preds = m1.predict(X_test)\n",
        "    print(\"err: \",np.sqrt(mean_squared_error(y_test,preds)))\n",
        "    err.append(np.sqrt(mean_squared_error(y_test,preds)))\n",
        "    p2 = m1.predict(test)\n",
        "    y_pred_totcb.append(p2)\n",
        "np.mean(err)"
      ],
      "metadata": {
        "colab": {
          "base_uri": "https://localhost:8080/"
        },
        "id": "A4ilkScM2QMd",
        "outputId": "d9786960-d4be-4db9-9fef-14f945da0b60"
      },
      "execution_count": null,
      "outputs": [
        {
          "output_type": "stream",
          "name": "stdout",
          "text": [
            "Learning rate set to 0.06781\n",
            "0:\tlearn: 9.7469211\ttest: 9.8350552\tbest: 9.8350552 (0)\ttotal: 22.8ms\tremaining: 22.7s\n",
            "100:\tlearn: 3.0534949\ttest: 3.4774273\tbest: 3.4774273 (100)\ttotal: 2.25s\tremaining: 20s\n",
            "200:\tlearn: 2.6867447\ttest: 3.3546179\tbest: 3.3546179 (200)\ttotal: 4.33s\tremaining: 17.2s\n",
            "300:\tlearn: 2.4495851\ttest: 3.2949228\tbest: 3.2949228 (300)\ttotal: 6.39s\tremaining: 14.8s\n",
            "400:\tlearn: 2.2761067\ttest: 3.2713297\tbest: 3.2702018 (398)\ttotal: 8.38s\tremaining: 12.5s\n",
            "500:\tlearn: 2.1457255\ttest: 3.2538691\tbest: 3.2529504 (493)\ttotal: 10.3s\tremaining: 10.2s\n",
            "600:\tlearn: 2.0466185\ttest: 3.2375042\tbest: 3.2374278 (596)\ttotal: 12.2s\tremaining: 8.11s\n",
            "700:\tlearn: 1.9507450\ttest: 3.2235878\tbest: 3.2235878 (700)\ttotal: 14.1s\tremaining: 6.02s\n",
            "800:\tlearn: 1.8654579\ttest: 3.2158027\tbest: 3.2156283 (781)\ttotal: 16s\tremaining: 3.98s\n",
            "900:\tlearn: 1.7917661\ttest: 3.2096333\tbest: 3.2088741 (896)\ttotal: 18s\tremaining: 1.98s\n",
            "999:\tlearn: 1.7449205\ttest: 3.2023466\tbest: 3.2013472 (997)\ttotal: 19.9s\tremaining: 0us\n",
            "bestTest = 3.201347243\n",
            "bestIteration = 997\n",
            "Shrink model to first 998 iterations.\n",
            "err:  3.2013474551422094\n",
            "Learning rate set to 0.06781\n",
            "0:\tlearn: 9.7735074\ttest: 9.7137636\tbest: 9.7137636 (0)\ttotal: 25.7ms\tremaining: 25.7s\n",
            "100:\tlearn: 3.0814185\ttest: 3.4525456\tbest: 3.4525456 (100)\ttotal: 1.91s\tremaining: 17s\n",
            "200:\tlearn: 2.7219509\ttest: 3.3300209\tbest: 3.3295644 (198)\ttotal: 3.7s\tremaining: 14.7s\n",
            "300:\tlearn: 2.4828562\ttest: 3.2724194\tbest: 3.2718711 (299)\ttotal: 5.54s\tremaining: 12.9s\n",
            "400:\tlearn: 2.3090602\ttest: 3.2455762\tbest: 3.2455762 (400)\ttotal: 7.34s\tremaining: 11s\n",
            "500:\tlearn: 2.1960222\ttest: 3.2378682\tbest: 3.2354297 (489)\ttotal: 9.13s\tremaining: 9.1s\n",
            "600:\tlearn: 2.1200733\ttest: 3.2311893\tbest: 3.2300758 (565)\ttotal: 10.9s\tremaining: 7.26s\n",
            "700:\tlearn: 2.0221784\ttest: 3.2207832\tbest: 3.2205818 (694)\ttotal: 12.7s\tremaining: 5.41s\n",
            "800:\tlearn: 1.9548262\ttest: 3.2125472\tbest: 3.2115977 (794)\ttotal: 14.4s\tremaining: 3.57s\n",
            "900:\tlearn: 1.8967075\ttest: 3.2070533\tbest: 3.2052791 (879)\ttotal: 16.1s\tremaining: 1.77s\n",
            "999:\tlearn: 1.8309810\ttest: 3.1972816\tbest: 3.1972816 (999)\ttotal: 17.9s\tremaining: 0us\n",
            "bestTest = 3.197281593\n",
            "bestIteration = 999\n",
            "err:  3.1972835011411873\n",
            "Learning rate set to 0.067813\n",
            "0:\tlearn: 9.9180652\ttest: 9.1875302\tbest: 9.1875302 (0)\ttotal: 18.5ms\tremaining: 18.4s\n",
            "100:\tlearn: 3.0831091\ttest: 3.6448820\tbest: 3.6448820 (100)\ttotal: 1.77s\tremaining: 15.8s\n",
            "200:\tlearn: 2.7314717\ttest: 3.5517473\tbest: 3.5517473 (200)\ttotal: 3.48s\tremaining: 13.8s\n",
            "300:\tlearn: 2.4967161\ttest: 3.4859451\tbest: 3.4859451 (300)\ttotal: 5.17s\tremaining: 12s\n",
            "400:\tlearn: 2.3180771\ttest: 3.4386595\tbest: 3.4385931 (398)\ttotal: 6.87s\tremaining: 10.3s\n",
            "500:\tlearn: 2.1668162\ttest: 3.4083053\tbest: 3.4077821 (492)\ttotal: 8.58s\tremaining: 8.55s\n",
            "600:\tlearn: 2.0572358\ttest: 3.3963268\tbest: 3.3958986 (595)\ttotal: 10.3s\tremaining: 6.82s\n",
            "700:\tlearn: 1.9698052\ttest: 3.3893605\tbest: 3.3888947 (698)\ttotal: 12s\tremaining: 5.12s\n",
            "800:\tlearn: 1.9071650\ttest: 3.3724914\tbest: 3.3724914 (800)\ttotal: 13.6s\tremaining: 3.39s\n",
            "900:\tlearn: 1.8685674\ttest: 3.3663151\tbest: 3.3658345 (857)\ttotal: 15.1s\tremaining: 1.66s\n",
            "999:\tlearn: 1.8091370\ttest: 3.3610399\tbest: 3.3610399 (999)\ttotal: 16.7s\tremaining: 0us\n",
            "bestTest = 3.361039914\n",
            "bestIteration = 999\n",
            "err:  3.36103991952522\n",
            "Learning rate set to 0.067813\n",
            "0:\tlearn: 9.6584207\ttest: 10.2051248\tbest: 10.2051248 (0)\ttotal: 17.3ms\tremaining: 17.3s\n",
            "100:\tlearn: 3.0429658\ttest: 3.6381936\tbest: 3.6381936 (100)\ttotal: 1.76s\tremaining: 15.7s\n",
            "200:\tlearn: 2.6524461\ttest: 3.5001769\tbest: 3.5001769 (200)\ttotal: 3.53s\tremaining: 14s\n",
            "300:\tlearn: 2.4607321\ttest: 3.4579407\tbest: 3.4579407 (300)\ttotal: 5.18s\tremaining: 12s\n",
            "400:\tlearn: 2.3020527\ttest: 3.4220645\tbest: 3.4220645 (400)\ttotal: 6.83s\tremaining: 10.2s\n",
            "500:\tlearn: 2.2002627\ttest: 3.4023598\tbest: 3.4011352 (492)\ttotal: 8.45s\tremaining: 8.41s\n",
            "600:\tlearn: 2.0955349\ttest: 3.3839841\tbest: 3.3839841 (600)\ttotal: 9.9s\tremaining: 6.58s\n",
            "700:\tlearn: 2.0079521\ttest: 3.3665455\tbest: 3.3665455 (700)\ttotal: 11.5s\tremaining: 4.89s\n",
            "800:\tlearn: 1.9213601\ttest: 3.3540716\tbest: 3.3538249 (798)\ttotal: 13s\tremaining: 3.24s\n",
            "900:\tlearn: 1.8562643\ttest: 3.3492355\tbest: 3.3488744 (850)\ttotal: 14.7s\tremaining: 1.61s\n",
            "999:\tlearn: 1.8088187\ttest: 3.3439936\tbest: 3.3438191 (996)\ttotal: 16.3s\tremaining: 0us\n",
            "bestTest = 3.34381913\n",
            "bestIteration = 996\n",
            "Shrink model to first 997 iterations.\n",
            "err:  3.3438191312124497\n",
            "Learning rate set to 0.067813\n",
            "0:\tlearn: 9.7301891\ttest: 9.8943870\tbest: 9.8943870 (0)\ttotal: 19.1ms\tremaining: 19.1s\n",
            "100:\tlearn: 3.0335712\ttest: 3.5788126\tbest: 3.5788126 (100)\ttotal: 1.77s\tremaining: 15.8s\n",
            "200:\tlearn: 2.6888112\ttest: 3.4180628\tbest: 3.4180628 (200)\ttotal: 3.53s\tremaining: 14s\n",
            "300:\tlearn: 2.4991041\ttest: 3.3568286\tbest: 3.3568286 (300)\ttotal: 5.21s\tremaining: 12.1s\n",
            "400:\tlearn: 2.3629383\ttest: 3.3239513\tbest: 3.3238030 (398)\ttotal: 6.71s\tremaining: 10s\n",
            "500:\tlearn: 2.2432903\ttest: 3.2956922\tbest: 3.2952518 (489)\ttotal: 8.27s\tremaining: 8.23s\n",
            "600:\tlearn: 2.1491004\ttest: 3.2674197\tbest: 3.2663770 (598)\ttotal: 9.94s\tremaining: 6.6s\n",
            "700:\tlearn: 2.0636249\ttest: 3.2532413\tbest: 3.2532413 (700)\ttotal: 11.6s\tremaining: 4.95s\n",
            "800:\tlearn: 1.9742482\ttest: 3.2380921\tbest: 3.2380921 (800)\ttotal: 13.3s\tremaining: 3.31s\n",
            "900:\tlearn: 1.9054190\ttest: 3.2320182\tbest: 3.2310524 (889)\ttotal: 15s\tremaining: 1.65s\n",
            "999:\tlearn: 1.8393027\ttest: 3.2163492\tbest: 3.2159294 (998)\ttotal: 16.7s\tremaining: 0us\n",
            "bestTest = 3.215929422\n",
            "bestIteration = 998\n",
            "Shrink model to first 999 iterations.\n",
            "err:  3.2159281506228905\n"
          ]
        },
        {
          "output_type": "execute_result",
          "data": {
            "text/plain": [
              "3.263883631528791"
            ]
          },
          "metadata": {},
          "execution_count": 104
        }
      ]
    },
    {
      "cell_type": "code",
      "source": [
        "err1=[]\n",
        "y_pred_totcb1=[]\n",
        "\n",
        "fold=KFold(n_splits=10, random_state=seed,shuffle=True)\n",
        "for train_index, test_index in fold.split(X,y):\n",
        "    X_train, X_test = X.iloc[train_index], X.iloc[test_index]\n",
        "    y_train, y_test = y.iloc[train_index], y.iloc[test_index]\n",
        "    m2 = LGBMRegressor(max_depth=-1, random_state=seed,)\n",
        "    m2.fit(X_train,y_train,eval_set=[(X_train,y_train),(X_test, y_test)], early_stopping_rounds=500,verbose=100,)\n",
        "    preds = m2.predict(X_test)\n",
        "    print(\"err: \",np.sqrt(mean_squared_error(y_test,preds)))\n",
        "    err1.append(np.sqrt(mean_squared_error(y_test,preds)))\n",
        "    p2 = m2.predict(test)\n",
        "    y_pred_totcb1.append(p2)\n",
        "np.mean(err1)"
      ],
      "metadata": {
        "colab": {
          "base_uri": "https://localhost:8080/"
        },
        "id": "ZPP2uss18gWr",
        "outputId": "e19dbd99-ee93-4ecb-a0a4-487d578e0ed0"
      },
      "execution_count": null,
      "outputs": [
        {
          "output_type": "stream",
          "name": "stdout",
          "text": [
            "Training until validation scores don't improve for 500 rounds.\n",
            "[100]\ttraining's l2: 1.41289\tvalid_1's l2: 9.571\n",
            "Did not meet early stopping. Best iteration is:\n",
            "[100]\ttraining's l2: 1.41289\tvalid_1's l2: 9.571\n",
            "err:  3.0937037426118206\n",
            "Training until validation scores don't improve for 500 rounds.\n",
            "[100]\ttraining's l2: 1.4364\tvalid_1's l2: 10.2786\n",
            "Did not meet early stopping. Best iteration is:\n",
            "[100]\ttraining's l2: 1.4364\tvalid_1's l2: 10.2786\n",
            "err:  3.2060294549880766\n",
            "Training until validation scores don't improve for 500 rounds.\n",
            "[100]\ttraining's l2: 1.40318\tvalid_1's l2: 10.8049\n",
            "Did not meet early stopping. Best iteration is:\n",
            "[100]\ttraining's l2: 1.40318\tvalid_1's l2: 10.8049\n",
            "err:  3.28708594845291\n",
            "Training until validation scores don't improve for 500 rounds.\n",
            "[100]\ttraining's l2: 1.36546\tvalid_1's l2: 11.2457\n",
            "Did not meet early stopping. Best iteration is:\n",
            "[100]\ttraining's l2: 1.36546\tvalid_1's l2: 11.2457\n",
            "err:  3.3534583209601716\n",
            "Training until validation scores don't improve for 500 rounds.\n",
            "[100]\ttraining's l2: 1.46685\tvalid_1's l2: 9.71093\n",
            "Did not meet early stopping. Best iteration is:\n",
            "[100]\ttraining's l2: 1.46685\tvalid_1's l2: 9.71093\n",
            "err:  3.11623620246165\n",
            "Training until validation scores don't improve for 500 rounds.\n",
            "[100]\ttraining's l2: 1.42174\tvalid_1's l2: 13.0217\n",
            "Did not meet early stopping. Best iteration is:\n",
            "[100]\ttraining's l2: 1.42174\tvalid_1's l2: 13.0217\n",
            "err:  3.6085561160836788\n",
            "Training until validation scores don't improve for 500 rounds.\n",
            "[100]\ttraining's l2: 1.40674\tvalid_1's l2: 11.2924\n",
            "Did not meet early stopping. Best iteration is:\n",
            "[100]\ttraining's l2: 1.40674\tvalid_1's l2: 11.2924\n",
            "err:  3.3604135931522294\n",
            "Training until validation scores don't improve for 500 rounds.\n",
            "[100]\ttraining's l2: 1.48042\tvalid_1's l2: 11.8266\n",
            "Did not meet early stopping. Best iteration is:\n",
            "[100]\ttraining's l2: 1.48042\tvalid_1's l2: 11.8266\n",
            "err:  3.4389760238012648\n",
            "Training until validation scores don't improve for 500 rounds.\n",
            "[100]\ttraining's l2: 1.40224\tvalid_1's l2: 10.8673\n",
            "Did not meet early stopping. Best iteration is:\n",
            "[100]\ttraining's l2: 1.40224\tvalid_1's l2: 10.8673\n",
            "err:  3.296558053560253\n",
            "Training until validation scores don't improve for 500 rounds.\n",
            "[100]\ttraining's l2: 1.40042\tvalid_1's l2: 10.7913\n",
            "Did not meet early stopping. Best iteration is:\n",
            "[100]\ttraining's l2: 1.40042\tvalid_1's l2: 10.7913\n",
            "err:  3.2850084153787624\n"
          ]
        },
        {
          "output_type": "execute_result",
          "data": {
            "text/plain": [
              "3.3046025871450824"
            ]
          },
          "metadata": {},
          "execution_count": 94
        }
      ]
    },
    {
      "cell_type": "code",
      "source": [
        "predic1 = np.mean(y_pred_totcb, 0)\n"
      ],
      "metadata": {
        "id": "TbhCqdhv9hWg"
      },
      "execution_count": null,
      "outputs": []
    },
    {
      "cell_type": "code",
      "source": [
        "a = {\"target\": predic1}\n"
      ],
      "metadata": {
        "id": "W-tXjfa79-vZ"
      },
      "execution_count": null,
      "outputs": []
    },
    {
      "cell_type": "code",
      "source": [
        "predic1"
      ],
      "metadata": {
        "colab": {
          "base_uri": "https://localhost:8080/"
        },
        "id": "WQ52EtAPBg10",
        "outputId": "72542a80-2b47-4864-c467-2498052c0f58"
      },
      "execution_count": null,
      "outputs": [
        {
          "output_type": "execute_result",
          "data": {
            "text/plain": [
              "array([18.23238659, 13.250559  , 20.15541979, ..., 18.32070313,\n",
              "       15.44363325, 18.63415901])"
            ]
          },
          "metadata": {},
          "execution_count": 97
        }
      ]
    },
    {
      "cell_type": "code",
      "source": [
        "sub = {'ward':test_col,'target':predic1}"
      ],
      "metadata": {
        "id": "fq3IZgCJCAyD"
      },
      "execution_count": null,
      "outputs": []
    },
    {
      "cell_type": "code",
      "source": [
        "s = pd.DataFrame(sub)\n",
        "s.to_csv('sub1.csv',index=False)"
      ],
      "metadata": {
        "id": "BWtnd3-BCSeD"
      },
      "execution_count": null,
      "outputs": []
    },
    {
      "cell_type": "code",
      "source": [
        "#LGB"
      ],
      "metadata": {
        "id": "g_5GCHlfEkes"
      },
      "execution_count": null,
      "outputs": []
    },
    {
      "cell_type": "code",
      "source": [
        "predic2 = np.mean(y_pred_totcb1, 0)\n"
      ],
      "metadata": {
        "id": "1CNSOOqPEYTq"
      },
      "execution_count": null,
      "outputs": []
    },
    {
      "cell_type": "code",
      "source": [
        "predic2\n"
      ],
      "metadata": {
        "colab": {
          "base_uri": "https://localhost:8080/"
        },
        "id": "sc5qgeRsEg07",
        "outputId": "5db7c1d3-1549-4801-ddc3-8fd2b22e15ca"
      },
      "execution_count": null,
      "outputs": [
        {
          "output_type": "execute_result",
          "data": {
            "text/plain": [
              "array([17.27027184, 14.74926474, 18.62008674, ..., 17.87759397,\n",
              "       14.08596646, 18.74557043])"
            ]
          },
          "metadata": {},
          "execution_count": 102
        }
      ]
    },
    {
      "cell_type": "code",
      "source": [
        "sub = {'ward':test_col,'target':predic2}\n",
        "s = pd.DataFrame(sub)\n",
        "s.to_csv('sub2.csv',index=False)"
      ],
      "metadata": {
        "id": "v_Xn1enQErCV"
      },
      "execution_count": null,
      "outputs": []
    }
  ]
}